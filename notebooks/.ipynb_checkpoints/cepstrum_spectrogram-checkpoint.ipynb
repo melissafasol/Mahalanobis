{
 "cells": [
  {
   "cell_type": "code",
   "execution_count": 5,
   "id": "8e8763ac",
   "metadata": {},
   "outputs": [],
   "source": [
    "import os \n",
    "import sys\n",
    "import numpy as np\n",
    "import pandas as pd\n",
    "import seaborn as sns\n",
    "import matplotlib.pyplot as plt\n",
    "import math\n",
    "\n",
    "from scipy import stats\n",
    "from scipy import signal \n",
    "from scipy.fft import fftshift\n",
    "from matplotlib import mlab \n",
    "from mpl_toolkits.axes_grid1 import make_axes_locatable\n",
    "\n",
    "\n",
    "os.chdir('/home/melissa/PROJECT_DIRECTORIES/Mahalanobis')\n",
    "%run cepstrum"
   ]
  },
  {
   "cell_type": "code",
   "execution_count": 6,
   "id": "ba3abef7",
   "metadata": {},
   "outputs": [
    {
     "ename": "ImportError",
     "evalue": "cannot import name 'br_seizure_files' from 'prepare_files' (/home/melissa/PROJECT_DIRECTORIES/GRIN2B/scripts/prepare_files.py)",
     "output_type": "error",
     "traceback": [
      "\u001b[0;31m---------------------------------------------------------------------------\u001b[0m",
      "\u001b[0;31mImportError\u001b[0m                               Traceback (most recent call last)",
      "Input \u001b[0;32mIn [6]\u001b[0m, in \u001b[0;36m<cell line: 3>\u001b[0;34m()\u001b[0m\n\u001b[1;32m      1\u001b[0m sys\u001b[38;5;241m.\u001b[39mpath\u001b[38;5;241m.\u001b[39minsert(\u001b[38;5;241m0\u001b[39m, \u001b[38;5;124m'\u001b[39m\u001b[38;5;124m/home/melissa/PROJECT_DIRECTORIES/GRIN2B/scripts\u001b[39m\u001b[38;5;124m'\u001b[39m) \n\u001b[1;32m      2\u001b[0m \u001b[38;5;28;01mfrom\u001b[39;00m \u001b[38;5;21;01mGRIN2B_constants\u001b[39;00m \u001b[38;5;28;01mimport\u001b[39;00m start_time_GRIN2B_baseline, end_time_GRIN2B_baseline, br_animal_IDs, GRIN_het_IDs\n\u001b[0;32m----> 3\u001b[0m \u001b[38;5;28;01mfrom\u001b[39;00m \u001b[38;5;21;01mprepare_files\u001b[39;00m \u001b[38;5;28;01mimport\u001b[39;00m PrepareGRIN2B, LoadGRIN2B, br_seizure_files, one_second_timebins \n\u001b[1;32m      4\u001b[0m \u001b[38;5;28;01mfrom\u001b[39;00m \u001b[38;5;21;01mfilter\u001b[39;00m \u001b[38;5;28;01mimport\u001b[39;00m Filter\n\u001b[1;32m      5\u001b[0m \u001b[38;5;28;01mfrom\u001b[39;00m \u001b[38;5;21;01mpower\u001b[39;00m \u001b[38;5;28;01mimport\u001b[39;00m PowerSpectrum, RemoveNoisyEpochs\n",
      "\u001b[0;31mImportError\u001b[0m: cannot import name 'br_seizure_files' from 'prepare_files' (/home/melissa/PROJECT_DIRECTORIES/GRIN2B/scripts/prepare_files.py)"
     ]
    }
   ],
   "source": [
    "sys.path.insert(0, '/home/melissa/PROJECT_DIRECTORIES/GRIN2B/scripts') \n",
    "from GRIN2B_constants import start_time_GRIN2B_baseline, end_time_GRIN2B_baseline, br_animal_IDs, GRIN_het_IDs\n",
    "from prepare_files import PrepareGRIN2B, LoadGRIN2B, br_seizure_files, one_second_timebins \n",
    "from filter import Filter\n",
    "from power import PowerSpectrum, RemoveNoisyEpochs\n",
    "\n",
    "sys.path.insert(0, '/home/melissa/PROJECT_DIRECTORIES/taini/scripts') \n",
    "from preproc2_extractbrainstate import ExtractBrainStateIndices\n",
    "\n",
    "\n",
    "\n",
    "directory_npy_path = '/home/melissa/PREPROCESSING/GRIN2B/GRIN2B_numpy'\n",
    "seizure_br_path = '/home/melissa/PREPROCESSING/GRIN2B/seizures'\n",
    "channel_number_list =  [0,2,3,4,5,6,7,8,9,10,11,12,13,15]\n",
    "save_path = '/home/melissa/RESULTS/GRIN2B/Power/seizures'\n",
    "seizure_df = []\n",
    "\n",
    "sampling_rate = 250.4\n",
    "nperseg = 250"
   ]
  },
  {
   "cell_type": "code",
   "execution_count": 7,
   "id": "f2665753",
   "metadata": {},
   "outputs": [
    {
     "name": "stdout",
     "output_type": "stream",
     "text": [
      "373 in seizure free id\n"
     ]
    },
    {
     "ename": "NameError",
     "evalue": "name 'directory_npy_path' is not defined",
     "output_type": "error",
     "traceback": [
      "\u001b[0;31m---------------------------------------------------------------------------\u001b[0m",
      "\u001b[0;31mNameError\u001b[0m                                 Traceback (most recent call last)",
      "Input \u001b[0;32mIn [7]\u001b[0m, in \u001b[0;36m<cell line: 4>\u001b[0;34m()\u001b[0m\n\u001b[1;32m      4\u001b[0m \u001b[38;5;28;01mfor\u001b[39;00m animal \u001b[38;5;129;01min\u001b[39;00m noisy_animal_test:\n\u001b[1;32m      5\u001b[0m         \u001b[38;5;28mprint\u001b[39m(\u001b[38;5;28mstr\u001b[39m(animal) \u001b[38;5;241m+\u001b[39m \u001b[38;5;124m'\u001b[39m\u001b[38;5;124m in seizure free id\u001b[39m\u001b[38;5;124m'\u001b[39m)\n\u001b[0;32m----> 6\u001b[0m         prepare_GRIN2B \u001b[38;5;241m=\u001b[39m PrepareGRIN2B(\u001b[43mdirectory_npy_path\u001b[49m, animal)\n\u001b[1;32m      7\u001b[0m         recording, brain_state_1, brain_state_2 \u001b[38;5;241m=\u001b[39m prepare_GRIN2B\u001b[38;5;241m.\u001b[39mload_two_analysis_files(seizure \u001b[38;5;241m=\u001b[39m \u001b[38;5;124m'\u001b[39m\u001b[38;5;124mFalse\u001b[39m\u001b[38;5;124m'\u001b[39m)\n\u001b[1;32m      8\u001b[0m         start_time_1, start_time_2 \u001b[38;5;241m=\u001b[39m prepare_GRIN2B\u001b[38;5;241m.\u001b[39mget_two_start_times(start_time_GRIN2B_baseline)\n",
      "\u001b[0;31mNameError\u001b[0m: name 'directory_npy_path' is not defined"
     ]
    }
   ],
   "source": [
    "noisy_animal_test = ['373']\n",
    "brain_state_number = 0\n",
    "channel_number_list = [2] \n",
    "for animal in noisy_animal_test:\n",
    "        print(str(animal) + ' in seizure free id')\n",
    "        prepare_GRIN2B = PrepareGRIN2B(directory_npy_path, animal)\n",
    "        recording, brain_state_1, brain_state_2 = prepare_GRIN2B.load_two_analysis_files(seizure = 'False')\n",
    "        start_time_1, start_time_2 = prepare_GRIN2B.get_two_start_times(start_time_GRIN2B_baseline)\n",
    "        end_time_1, end_time_2 = prepare_GRIN2B.get_end_times(end_time_GRIN2B_baseline)\n",
    "        for channelnumber in channel_number_list:\n",
    "            load_GRIN2B = LoadGRIN2B(recording, start_time_1, start_time_2, end_time_1, end_time_2, channelnumber)\n",
    "            data_1, data_2 = load_GRIN2B.load_GRIN2B_from_start()\n",
    "            extract_brain_state_1 = ExtractBrainStateIndices(brainstate_file = brain_state_1, brainstate_number = brain_state_number)\n",
    "            extract_brain_state_2 = ExtractBrainStateIndices(brainstate_file = brain_state_2, brainstate_number = brain_state_number)\n",
    "            epoch_indices_1 = extract_brain_state_1.load_brainstate_file()\n",
    "            epoch_indices_2 = extract_brain_state_2.load_brainstate_file()\n",
    "            timevalues_array_1 = extract_brain_state_1.get_data_indices(epoch_indices_1)\n",
    "            timevalues_array_2 = extract_brain_state_2.get_data_indices(epoch_indices_2)\n",
    "            print('all data loaded for ' + str(animal) + ' channel number ' + str(channelnumber))\n",
    "            filter_1 = Filter(data_1, timevalues_array_1)\n",
    "            filter_2 = Filter(data_2, timevalues_array_2)\n",
    "            filtered_data_1 = filter_1.butter_bandpass(seizure = 'False')\n",
    "            "
   ]
  },
  {
   "cell_type": "code",
   "execution_count": 386,
   "id": "f3a2732b",
   "metadata": {},
   "outputs": [
    {
     "name": "stderr",
     "output_type": "stream",
     "text": [
      "/tmp/ipykernel_26136/704195296.py:2: RuntimeWarning: divide by zero encountered in log\n",
      "  magnitude = np.log(np.abs(transpose_spec))\n"
     ]
    }
   ],
   "source": [
    "transpose_spec = spec.transpose()\n",
    "magnitude = np.log(np.abs(transpose_spec))\n",
    "inverse_fft = (np.fft.ifft(magnitude)).real\n",
    "\n",
    "#isolate the theta band\n",
    "theta_band = []\n",
    "for i in inverse_fft:\n",
    "    theta_band.append(i[5:10])\n",
    "#calculate the max theta band\n",
    "max_theta = []\n",
    "for i in theta_band:\n",
    "    max_theta.append(max(i))\n",
    "#what is the max of all of the max scores\n",
    "peak = max(max_theta)\n",
    "peak\n",
    "#calculate z score using scipy stats, degrees of freedom = 1 is equivalent to matlab normalise() function\n",
    "seizscore = max_theta/peak\n",
    "z_score_seizure = stats.zscore(seizscore, ddof = 1)"
   ]
  },
  {
   "cell_type": "code",
   "execution_count": 387,
   "id": "1aed2475",
   "metadata": {},
   "outputs": [
    {
     "data": {
      "text/plain": [
       "1.1023140159097327"
      ]
     },
     "execution_count": 387,
     "metadata": {},
     "output_type": "execute_result"
    }
   ],
   "source": [
    "peak"
   ]
  },
  {
   "cell_type": "code",
   "execution_count": 382,
   "id": "f45c6b36",
   "metadata": {},
   "outputs": [
    {
     "data": {
      "text/plain": [
       "array([[4.36805394e+06, 4.37063775e+06, 4.39406816e+06, ...,\n",
       "        4.47044354e+06, 4.47885593e+06, 4.45648099e+06],\n",
       "       [2.21388259e+06, 2.20669959e+06, 2.21606662e+06, ...,\n",
       "        2.25080779e+06, 2.26900438e+06, 2.25074740e+06],\n",
       "       [3.53063871e+01, 5.49699815e+00, 5.47995409e+00, ...,\n",
       "        1.51409216e+01, 1.21838283e+01, 1.45892925e+01],\n",
       "       ...,\n",
       "       [2.66043438e-03, 2.17689486e-02, 8.82025758e-03, ...,\n",
       "        6.11458964e-03, 4.74393983e-03, 1.65153318e-02],\n",
       "       [1.73596746e-02, 5.13642762e-02, 2.78423343e-02, ...,\n",
       "        2.04168199e-02, 1.48054782e-05, 3.22026023e-02],\n",
       "       [2.48577364e-02, 1.29586893e-02, 2.77822312e-02, ...,\n",
       "        1.09156754e-02, 1.49339200e-03, 8.82146914e-03]])"
      ]
     },
     "execution_count": 382,
     "metadata": {},
     "output_type": "execute_result"
    }
   ],
   "source": [
    "spec[:, 7:15]"
   ]
  },
  {
   "cell_type": "code",
   "execution_count": 419,
   "id": "1db20f7b",
   "metadata": {},
   "outputs": [],
   "source": [
    "br_animal_IDs = ['373']\n",
    "for animal in br_animal_IDs:\n",
    "    prepare_GRIN2B = PrepareGRIN2B(directory_npy_path, animal)\n",
    "    recording = prepare_GRIN2B.load_two_analysis_files(seizure = 'True')\n",
    "    start_time_1, start_time_2 = prepare_GRIN2B.get_two_start_times(start_time_GRIN2B_baseline)\n",
    "    end_time_1, end_time_2 = prepare_GRIN2B.get_end_times(end_time_GRIN2B_baseline)\n",
    "    os.chdir(seizure_br_path)\n",
    "    br_1 = pd.read_csv('GRIN2B_' + str(animal) + '_BL1_Seizures.csv')\n",
    "    br_2 = pd.read_csv('GRIN2B_' + str(animal) + '_BL2_Seizures.csv')\n",
    "    zipped_timevalues_1 = br_seizure_files(br_1, sampling_rate)\n",
    "    if len(zipped_timevalues_1) > 0:\n",
    "        for channelnumber in channel_number_list:\n",
    "            load_GRIN2B = LoadGRIN2B(recording, start_time_1, start_time_2, end_time_1, end_time_2, channelnumber)\n",
    "            data_1, data_2 = load_GRIN2B.load_GRIN2B_from_start()"
   ]
  },
  {
   "cell_type": "code",
   "execution_count": 420,
   "id": "a3880dfa",
   "metadata": {},
   "outputs": [
    {
     "data": {
      "text/html": [
       "<div>\n",
       "<style scoped>\n",
       "    .dataframe tbody tr th:only-of-type {\n",
       "        vertical-align: middle;\n",
       "    }\n",
       "\n",
       "    .dataframe tbody tr th {\n",
       "        vertical-align: top;\n",
       "    }\n",
       "\n",
       "    .dataframe thead th {\n",
       "        text-align: right;\n",
       "    }\n",
       "</style>\n",
       "<table border=\"1\" class=\"dataframe\">\n",
       "  <thead>\n",
       "    <tr style=\"text-align: right;\">\n",
       "      <th></th>\n",
       "      <th>sec_start</th>\n",
       "      <th>sec_end</th>\n",
       "      <th>dur</th>\n",
       "    </tr>\n",
       "  </thead>\n",
       "  <tbody>\n",
       "    <tr>\n",
       "      <th>0</th>\n",
       "      <td>489.7</td>\n",
       "      <td>493.9</td>\n",
       "      <td>4.2</td>\n",
       "    </tr>\n",
       "    <tr>\n",
       "      <th>1</th>\n",
       "      <td>497.9</td>\n",
       "      <td>501.7</td>\n",
       "      <td>3.8</td>\n",
       "    </tr>\n",
       "    <tr>\n",
       "      <th>2</th>\n",
       "      <td>506.3</td>\n",
       "      <td>508.9</td>\n",
       "      <td>2.6</td>\n",
       "    </tr>\n",
       "    <tr>\n",
       "      <th>3</th>\n",
       "      <td>518.3</td>\n",
       "      <td>532.1</td>\n",
       "      <td>13.8</td>\n",
       "    </tr>\n",
       "    <tr>\n",
       "      <th>4</th>\n",
       "      <td>567.7</td>\n",
       "      <td>572.1</td>\n",
       "      <td>4.4</td>\n",
       "    </tr>\n",
       "    <tr>\n",
       "      <th>...</th>\n",
       "      <td>...</td>\n",
       "      <td>...</td>\n",
       "      <td>...</td>\n",
       "    </tr>\n",
       "    <tr>\n",
       "      <th>862</th>\n",
       "      <td>85008.9</td>\n",
       "      <td>85021.3</td>\n",
       "      <td>12.4</td>\n",
       "    </tr>\n",
       "    <tr>\n",
       "      <th>863</th>\n",
       "      <td>85024.1</td>\n",
       "      <td>85030.1</td>\n",
       "      <td>6.0</td>\n",
       "    </tr>\n",
       "    <tr>\n",
       "      <th>864</th>\n",
       "      <td>86323.3</td>\n",
       "      <td>86324.1</td>\n",
       "      <td>0.8</td>\n",
       "    </tr>\n",
       "    <tr>\n",
       "      <th>865</th>\n",
       "      <td>86326.5</td>\n",
       "      <td>86327.3</td>\n",
       "      <td>0.8</td>\n",
       "    </tr>\n",
       "    <tr>\n",
       "      <th>866</th>\n",
       "      <td>86330.3</td>\n",
       "      <td>86332.9</td>\n",
       "      <td>2.6</td>\n",
       "    </tr>\n",
       "  </tbody>\n",
       "</table>\n",
       "<p>867 rows × 3 columns</p>\n",
       "</div>"
      ],
      "text/plain": [
       "     sec_start  sec_end   dur\n",
       "0        489.7    493.9   4.2\n",
       "1        497.9    501.7   3.8\n",
       "2        506.3    508.9   2.6\n",
       "3        518.3    532.1  13.8\n",
       "4        567.7    572.1   4.4\n",
       "..         ...      ...   ...\n",
       "862    85008.9  85021.3  12.4\n",
       "863    85024.1  85030.1   6.0\n",
       "864    86323.3  86324.1   0.8\n",
       "865    86326.5  86327.3   0.8\n",
       "866    86330.3  86332.9   2.6\n",
       "\n",
       "[867 rows x 3 columns]"
      ]
     },
     "execution_count": 420,
     "metadata": {},
     "output_type": "execute_result"
    }
   ],
   "source": [
    "br_1"
   ]
  },
  {
   "cell_type": "code",
   "execution_count": 421,
   "id": "6ab7c043",
   "metadata": {},
   "outputs": [],
   "source": [
    "start_seizure = int(518.3*250.4)\n",
    "end_seizure = int(532.1 *250.4)\n",
    "\n",
    "##check one second epoch spectrogram calculation works "
   ]
  },
  {
   "cell_type": "code",
   "execution_count": 422,
   "id": "c618e5d0",
   "metadata": {},
   "outputs": [],
   "source": [
    "seizure_data_1 = data_1[start_seizure:end_seizure]"
   ]
  },
  {
   "cell_type": "code",
   "execution_count": 515,
   "id": "f6ec5dc5",
   "metadata": {},
   "outputs": [
    {
     "data": {
      "image/png": "[encoded data removed]",
      "text/plain": [
       "<Figure size 432x288 with 2 Axes>"
      ]
     },
     "metadata": {
      "needs_background": "light"
     },
     "output_type": "display_data"
    }
   ],
   "source": [
    "ax = plt.axes()\n",
    "spec, freqs, t, im = ax.specgram(seizure_data_1, Fs = 250.4)\n",
    "ax.set_xlabel('time (s)')\n",
    "ax.set_ylabel('frequencies (Hz)')\n",
    "ax.set_ylim(ymin = 0, ymax = 20)\n",
    "cbar = plt.colorbar(im, ax=ax)\n",
    "cbar.set_label('Amplitude (mV)')\n",
    "cbar.minorticks_on()\n",
    "os.chdir('/home/melissa/RESULTS/GRIN2B')\n",
    "plt.savefig('spectrogram_seizure_example_373_epoch3.jpg')"
   ]
  },
  {
   "cell_type": "code",
   "execution_count": 4,
   "id": "226b97b3",
   "metadata": {},
   "outputs": [
    {
     "ename": "NameError",
     "evalue": "name 'np' is not defined",
     "output_type": "error",
     "traceback": [
      "\u001b[0;31m---------------------------------------------------------------------------\u001b[0m",
      "\u001b[0;31mNameError\u001b[0m                                 Traceback (most recent call last)",
      "Input \u001b[0;32mIn [4]\u001b[0m, in \u001b[0;36m<cell line: 1>\u001b[0;34m()\u001b[0m\n\u001b[0;32m----> 1\u001b[0m qufrencies \u001b[38;5;241m=\u001b[39m \u001b[43mnp\u001b[49m\u001b[38;5;241m.\u001b[39marray(\u001b[38;5;28mrange\u001b[39m(\u001b[38;5;28mlen\u001b[39m(spec)))\u001b[38;5;241m/\u001b[39m\u001b[38;5;241m250.4\u001b[39m\n\u001b[1;32m      3\u001b[0m magnitude \u001b[38;5;241m=\u001b[39m np\u001b[38;5;241m.\u001b[39mlog(np\u001b[38;5;241m.\u001b[39mabs(spec))\n\u001b[1;32m      4\u001b[0m inverse_fft \u001b[38;5;241m=\u001b[39m (np\u001b[38;5;241m.\u001b[39mfft\u001b[38;5;241m.\u001b[39mifft(magnitude))\u001b[38;5;241m.\u001b[39mreal\n",
      "\u001b[0;31mNameError\u001b[0m: name 'np' is not defined"
     ]
    }
   ],
   "source": [
    "qufrencies = np.array(range(len(spec)))/250.4\n",
    "\n",
    "magnitude = np.log(np.abs(spec))\n",
    "inverse_fft = (np.fft.ifft(magnitude)).real\n",
    "\n",
    "bins = np.arange(1, 25, 1)\n",
    "\n",
    "for i in bins:\n",
    "    plt.plot(qufrencies, inverse_fft[:, i])\n",
    "    plt.ylim(-0.6, 0.6)\n",
    "    #plt.show()\n",
    "    #plt.clf()"
   ]
  },
  {
   "cell_type": "code",
   "execution_count": 553,
   "id": "3873c356",
   "metadata": {},
   "outputs": [],
   "source": [
    "def thresholding_algo(y, lag, threshold, influence):\n",
    "    signals = np.zeros(len(y))\n",
    "    filteredY = np.array(y)\n",
    "    avgFilter = [0]*len(y)\n",
    "    stdFilter = [0]*len(y)\n",
    "    avgFilter[lag - 1] = np.mean(y[0:lag])\n",
    "    stdFilter[lag - 1] = np.std(y[0:lag])\n",
    "    for i in range(lag, len(y)):\n",
    "        if abs(y[i] - avgFilter[i-1]) > threshold * stdFilter [i-1]:\n",
    "            if y[i] > avgFilter[i-1]:\n",
    "                signals[i] = 1\n",
    "            else:\n",
    "                signals[i] = -1\n",
    "\n",
    "            filteredY[i] = influence * y[i] + (1 - influence) * filteredY[i-1]\n",
    "            avgFilter[i] = np.mean(filteredY[(i-lag+1):i+1])\n",
    "            stdFilter[i] = np.std(filteredY[(i-lag+1):i+1])\n",
    "        else:\n",
    "            signals[i] = 0\n",
    "            filteredY[i] = y[i]\n",
    "            avgFilter[i] = np.mean(filteredY[(i-lag+1):i+1])\n",
    "            stdFilter[i] = np.std(filteredY[(i-lag+1):i+1])\n",
    "\n",
    "    return np.asarray(signals),np.asarray(avgFilter),np.asarray(stdFilter)"
   ]
  },
  {
   "cell_type": "code",
   "execution_count": 3,
   "id": "6a8f1341",
   "metadata": {},
   "outputs": [],
   "source": [
    "#thresholding_algo(y = inverse_fft[:,0], lag = 30, threshold = 5, influence = 0)"
   ]
  },
  {
   "cell_type": "code",
   "execution_count": 236,
   "id": "ec5f169b",
   "metadata": {},
   "outputs": [
    {
     "data": {
      "image/png": "[encoded data removed]",
      "text/plain": [
       "<Figure size 432x288 with 2 Axes>"
      ]
     },
     "metadata": {
      "needs_background": "light"
     },
     "output_type": "display_data"
    }
   ],
   "source": [
    "fig = plt.figure()\n",
    "ax = plt.axes(projection='3d')\n",
    "spec, freqs, t = mlab.specgram(seizure_data_1, Fs = 250.4)\n",
    "ax.set_xlabel('time (s)')\n",
    "X, Y, Z = t[None, :], freqs[:, None],   20*np.log10(spec)\n",
    "ax.plot_surface(X, Y, Z, cmap='viridis')\n",
    "ax.set_ylim(ymin = 0, ymax = 20)\n",
    "ax.set_zlim(zmin = -40, zmax = 60)\n",
    "\n",
    "cax = fig.add_axes([ax.get_position().x1+0.1,ax.get_position().y0,0.02,ax.get_position().height])\n",
    "#plt.colorbar(im, cax=cax)\n",
    "\n",
    "cbar = plt.colorbar(im, cax=cax)\n",
    "cbar.set_label('Amplitude (mV)')\n",
    "cbar.minorticks_on()\n",
    "ax.set_ylabel('frequencies (Hz)')\n",
    "ax.set_ylabel('frequencies (Hz)')\n",
    "#ax.set_zlabel('amplitude (mV)')\n",
    "os.chdir('/home/melissa/RESULTS/GRIN2B')\n",
    "\n",
    "plt.savefig('3D_spectrogram_seizure_example_373_epoch3.jpg')"
   ]
  },
  {
   "cell_type": "markdown",
   "id": "f767de3b",
   "metadata": {},
   "source": [
    "Pxx is a 2d array with a shape of (len(freqs), len(bins))"
   ]
  },
  {
   "cell_type": "code",
   "execution_count": 120,
   "id": "7b46e909",
   "metadata": {},
   "outputs": [
    {
     "data": {
      "text/plain": [
       "(129, 61)"
      ]
     },
     "execution_count": 120,
     "metadata": {},
     "output_type": "execute_result"
    }
   ],
   "source": [
    "Pxx.shape"
   ]
  },
  {
   "cell_type": "code",
   "execution_count": 121,
   "id": "9e988414",
   "metadata": {},
   "outputs": [
    {
     "data": {
      "text/plain": [
       "(129,)"
      ]
     },
     "execution_count": 121,
     "metadata": {},
     "output_type": "execute_result"
    }
   ],
   "source": [
    "freqs.shape"
   ]
  },
  {
   "cell_type": "code",
   "execution_count": 122,
   "id": "e2843cd7",
   "metadata": {},
   "outputs": [
    {
     "data": {
      "text/plain": [
       "(61,)"
      ]
     },
     "execution_count": 122,
     "metadata": {},
     "output_type": "execute_result"
    }
   ],
   "source": [
    "bins.shape"
   ]
  },
  {
   "cell_type": "code",
   "execution_count": 144,
   "id": "0593574d",
   "metadata": {},
   "outputs": [
    {
     "data": {
      "text/plain": [
       "(61, 129)"
      ]
     },
     "execution_count": 144,
     "metadata": {},
     "output_type": "execute_result"
    }
   ],
   "source": [
    "#transpose bins to columns instead of rows\n",
    "transpose_Pxx = Pxx.transpose()\n",
    "transpose_Pxx.shape"
   ]
  },
  {
   "cell_type": "markdown",
   "id": "61ee8331",
   "metadata": {},
   "source": [
    "## cepstrum calculation"
   ]
  },
  {
   "cell_type": "code",
   "execution_count": 152,
   "id": "6fc96516",
   "metadata": {},
   "outputs": [],
   "source": [
    "magnitude = np.log(np.abs(transpose_Pxx))\n",
    "inverse_fft = np.fft.ifft(magnitude)"
   ]
  },
  {
   "cell_type": "markdown",
   "id": "7dcdfc58",
   "metadata": {},
   "source": [
    "## quefrency calculation"
   ]
  },
  {
   "cell_type": "code",
   "execution_count": 149,
   "id": "ae726d94",
   "metadata": {},
   "outputs": [
    {
     "name": "stderr",
     "output_type": "stream",
     "text": [
      "/tmp/ipykernel_26136/2763722176.py:2: RuntimeWarning: divide by zero encountered in true_divide\n",
      "  bins = samprate/freqs\n"
     ]
    }
   ],
   "source": [
    "samprate = 250.4\n",
    "bins = samprate/freqs\n",
    "q = bins/120.5"
   ]
  },
  {
   "cell_type": "code",
   "execution_count": 239,
   "id": "37f42e52",
   "metadata": {},
   "outputs": [],
   "source": [
    "#isolate the theta band\n",
    "theta_band = []\n",
    "for i in inverse_fft:\n",
    "    theta_band.append(i[5:10])\n",
    "#calculate the max theta band\n",
    "max_theta = []\n",
    "for i in theta_band:\n",
    "    max_theta.append(max(i))\n",
    "#what is the max of all of the max scores\n",
    "peak = max(max_theta)\n",
    "peak\n",
    "#calculate z score using scipy stats, degrees of freedom = 1 is equivalent to matlab normalise() function\n",
    "seizscore = max_theta/peak\n",
    "z_score_seizure = stats.zscore(seizscore, ddof = 1)"
   ]
  },
  {
   "cell_type": "code",
   "execution_count": 512,
   "id": "69432b9b",
   "metadata": {},
   "outputs": [
    {
     "name": "stdout",
     "output_type": "stream",
     "text": [
      "373 in seizure free id\n",
      "all data loaded for 373 channel number 2\n"
     ]
    }
   ],
   "source": [
    "#WAKE EPOCHS 373\n",
    "noisy_animal_test = ['373']\n",
    "brain_state_number = 0\n",
    "channel_number_list = [2] \n",
    "for animal in noisy_animal_test:\n",
    "        print(str(animal) + ' in seizure free id')\n",
    "        prepare_GRIN2B = PrepareGRIN2B(directory_npy_path, animal)\n",
    "        recording, brain_state_1, brain_state_2 = prepare_GRIN2B.load_two_analysis_files(seizure = 'False')\n",
    "        start_time_1, start_time_2 = prepare_GRIN2B.get_two_start_times(start_time_GRIN2B_baseline)\n",
    "        end_time_1, end_time_2 = prepare_GRIN2B.get_end_times(end_time_GRIN2B_baseline)\n",
    "        for channelnumber in channel_number_list:\n",
    "            load_GRIN2B = LoadGRIN2B(recording, start_time_1, start_time_2, end_time_1, end_time_2, channelnumber)\n",
    "            data_1, data_2 = load_GRIN2B.load_GRIN2B_from_start()\n",
    "            extract_brain_state_1 = ExtractBrainStateIndices(brainstate_file = brain_state_1, brainstate_number = brain_state_number)\n",
    "            extract_brain_state_2 = ExtractBrainStateIndices(brainstate_file = brain_state_2, brainstate_number = brain_state_number)\n",
    "            epoch_indices_1 = extract_brain_state_1.load_brainstate_file()\n",
    "            epoch_indices_2 = extract_brain_state_2.load_brainstate_file()\n",
    "            timevalues_array_1 = extract_brain_state_1.get_data_indices(epoch_indices_1)\n",
    "            timevalues_array_2 = extract_brain_state_2.get_data_indices(epoch_indices_2)\n",
    "            print('all data loaded for ' + str(animal) + ' channel number ' + str(channelnumber))\n",
    "            filter_1 = Filter(data_1, timevalues_array_1)\n",
    "            filter_2 = Filter(data_2, timevalues_array_2)\n",
    "            filtered_data_1 = filter_1.butter_bandpass(seizure = 'False')"
   ]
  },
  {
   "cell_type": "code",
   "execution_count": 2,
   "id": "2c93d4f1",
   "metadata": {},
   "outputs": [
    {
     "ename": "NameError",
     "evalue": "name 'signal' is not defined",
     "output_type": "error",
     "traceback": [
      "\u001b[0;31m---------------------------------------------------------------------------\u001b[0m",
      "\u001b[0;31mNameError\u001b[0m                                 Traceback (most recent call last)",
      "Input \u001b[0;32mIn [2]\u001b[0m, in \u001b[0;36m<cell line: 1>\u001b[0;34m()\u001b[0m\n\u001b[0;32m----> 1\u001b[0m power_calculations \u001b[38;5;241m=\u001b[39m \u001b[43msignal\u001b[49m\u001b[38;5;241m.\u001b[39mwelch(filtered_data_1[\u001b[38;5;241m46\u001b[39m], window \u001b[38;5;241m=\u001b[39m \u001b[38;5;124m'\u001b[39m\u001b[38;5;124mhann\u001b[39m\u001b[38;5;124m'\u001b[39m, fs \u001b[38;5;241m=\u001b[39m \u001b[38;5;241m250.4\u001b[39m, nperseg \u001b[38;5;241m=\u001b[39m \u001b[38;5;241m1252\u001b[39m)\n\u001b[1;32m      2\u001b[0m frequency \u001b[38;5;241m=\u001b[39m power_calculations[\u001b[38;5;241m0\u001b[39m]\n\u001b[1;32m      3\u001b[0m plt\u001b[38;5;241m.\u001b[39msemilogy(frequency, power_calculations[\u001b[38;5;241m1\u001b[39m])\n",
      "\u001b[0;31mNameError\u001b[0m: name 'signal' is not defined"
     ]
    }
   ],
   "source": [
    "power_calculations = signal.welch(filtered_data_1[46], window = 'hann', fs = 250.4, nperseg = 1252)\n",
    "frequency = power_calculations[0]\n",
    "plt.semilogy(frequency, power_calculations[1])\n",
    "plt.yscale('log')\n",
    "plt.xlim(0, 100)\n",
    "plt.ylim(10**-5, 10**5)\n",
    "#plt.show()\n",
    "#plt.clf()"
   ]
  },
  {
   "cell_type": "code",
   "execution_count": 1,
   "id": "87d6e6aa",
   "metadata": {},
   "outputs": [
    {
     "ename": "NameError",
     "evalue": "name 'thresholding_algo' is not defined",
     "output_type": "error",
     "traceback": [
      "\u001b[0;31m---------------------------------------------------------------------------\u001b[0m",
      "\u001b[0;31mNameError\u001b[0m                                 Traceback (most recent call last)",
      "Input \u001b[0;32mIn [1]\u001b[0m, in \u001b[0;36m<cell line: 1>\u001b[0;34m()\u001b[0m\n\u001b[0;32m----> 1\u001b[0m signals, avgfilter, stdfilter \u001b[38;5;241m=\u001b[39m \u001b[43mthresholding_algo\u001b[49m(y \u001b[38;5;241m=\u001b[39m power_calculations[\u001b[38;5;241m1\u001b[39m], lag \u001b[38;5;241m=\u001b[39m \u001b[38;5;241m30\u001b[39m, threshold \u001b[38;5;241m=\u001b[39m \u001b[38;5;241m5\u001b[39m, influence \u001b[38;5;241m=\u001b[39m \u001b[38;5;241m0\u001b[39m)\n",
      "\u001b[0;31mNameError\u001b[0m: name 'thresholding_algo' is not defined"
     ]
    }
   ],
   "source": [
    "signals, avgfilter, stdfilter = thresholding_algo(y = power_calculations[1], lag = 30, threshold = 5, influence = 0)"
   ]
  },
  {
   "cell_type": "code",
   "execution_count": 522,
   "id": "3c0e8614",
   "metadata": {},
   "outputs": [
    {
     "data": {
      "image/png": "[encoded data removed]",
      "text/plain": [
       "<Figure size 432x288 with 2 Axes>"
      ]
     },
     "metadata": {
      "needs_background": "light"
     },
     "output_type": "display_data"
    }
   ],
   "source": [
    "wake_data = filtered_data_1[0]\n",
    "ax = plt.axes()\n",
    "spec, freqs, t, im = ax.specgram(wake_data, Fs = 250.4)\n",
    "ax.set_xlabel('time (s)')\n",
    "ax.set_ylabel('frequencies (Hz)')\n",
    "ax.set_ylim(ymin = 0, ymax = 20)\n",
    "cbar = plt.colorbar(im, ax=ax)\n",
    "cbar.set_label('Amplitude (mV)')\n",
    "cbar.minorticks_on()"
   ]
  },
  {
   "cell_type": "code",
   "execution_count": 1,
   "id": "01f9d4c8",
   "metadata": {},
   "outputs": [
    {
     "ename": "NameError",
     "evalue": "name 'np' is not defined",
     "output_type": "error",
     "traceback": [
      "\u001b[0;31m---------------------------------------------------------------------------\u001b[0m",
      "\u001b[0;31mNameError\u001b[0m                                 Traceback (most recent call last)",
      "Input \u001b[0;32mIn [1]\u001b[0m, in \u001b[0;36m<cell line: 1>\u001b[0;34m()\u001b[0m\n\u001b[0;32m----> 1\u001b[0m qufrencies \u001b[38;5;241m=\u001b[39m \u001b[43mnp\u001b[49m\u001b[38;5;241m.\u001b[39marray(\u001b[38;5;28mrange\u001b[39m(\u001b[38;5;28mlen\u001b[39m(spec)))\u001b[38;5;241m/\u001b[39m\u001b[38;5;241m250.4\u001b[39m\n\u001b[1;32m      3\u001b[0m magnitude \u001b[38;5;241m=\u001b[39m np\u001b[38;5;241m.\u001b[39mlog(np\u001b[38;5;241m.\u001b[39mabs(spec))\n\u001b[1;32m      4\u001b[0m inverse_fft \u001b[38;5;241m=\u001b[39m (np\u001b[38;5;241m.\u001b[39mfft\u001b[38;5;241m.\u001b[39mifft(magnitude))\u001b[38;5;241m.\u001b[39mreal\n",
      "\u001b[0;31mNameError\u001b[0m: name 'np' is not defined"
     ]
    }
   ],
   "source": [
    "qufrencies = np.array(range(len(spec)))/250.4\n",
    "\n",
    "magnitude = np.log(np.abs(spec))\n",
    "inverse_fft = (np.fft.ifft(magnitude)).real\n",
    "\n",
    "bins = np.arange(1, 8, 1)\n",
    "\n",
    "for i in bins:\n",
    "    plt.plot(qufrencies, inverse_fft[:, i])\n",
    "    plt.ylim(-0.6, 0.6)\n",
    "    #plt.show()\n",
    "    #plt.clf()"
   ]
  },
  {
   "cell_type": "code",
   "execution_count": 408,
   "id": "31770b95",
   "metadata": {},
   "outputs": [],
   "source": [
    "#transpose bins to columns instead of rows\n",
    "transpose_spec = spec.transpose()\n",
    "transpose_spec.shape\n",
    "magnitude = np.log(np.abs(transpose_spec))\n",
    "inverse_fft = (np.fft.ifft(magnitude)).real"
   ]
  },
  {
   "cell_type": "code",
   "execution_count": 409,
   "id": "e3bb0088",
   "metadata": {},
   "outputs": [],
   "source": [
    "#isolate the theta band\n",
    "theta_band = []\n",
    "for i in inverse_fft:\n",
    "    theta_band.append(i[7:15])\n",
    "#calculate the max theta band\n",
    "max_theta = []\n",
    "for i in theta_band:\n",
    "    max_theta.append(max(i))\n",
    "#what is the max of all of the max scores\n",
    "peak = max(max_theta)\n",
    "#calculate z score using scipy stats, degrees of freedom = 1 is equivalent to matlab normalise() function\n",
    "seizscore = max_theta/peak\n",
    "z_score = stats.zscore(seizscore, ddof = 1)"
   ]
  },
  {
   "cell_type": "code",
   "execution_count": 411,
   "id": "ffd2dc93",
   "metadata": {},
   "outputs": [
    {
     "data": {
      "text/plain": [
       "5.551115123125783e-17"
      ]
     },
     "execution_count": 411,
     "metadata": {},
     "output_type": "execute_result"
    }
   ],
   "source": [
    "z_score.mean()"
   ]
  },
  {
   "cell_type": "code",
   "execution_count": 362,
   "id": "24592679",
   "metadata": {},
   "outputs": [
    {
     "data": {
      "text/plain": [
       "5.551115123125783e-17"
      ]
     },
     "execution_count": 362,
     "metadata": {},
     "output_type": "execute_result"
    }
   ],
   "source": [
    "z_score.mean()"
   ]
  },
  {
   "cell_type": "code",
   "execution_count": 415,
   "id": "9d6ed031",
   "metadata": {},
   "outputs": [
    {
     "name": "stdout",
     "output_type": "stream",
     "text": [
      "1.0541536491420844\n",
      "0.9534395744391091\n",
      "0.26492408764995906\n",
      "0.033641731795639465\n",
      "0.9796505224326872\n"
     ]
    }
   ],
   "source": [
    "ing_zscore = 2.2*10**-8\n",
    "for i in z_score:\n",
    "    if i > ing_zscore:\n",
    "        print(i)"
   ]
  },
  {
   "cell_type": "code",
   "execution_count": null,
   "id": "10dfb4c3",
   "metadata": {},
   "outputs": [],
   "source": []
  }
 ],
 "metadata": {
  "kernelspec": {
   "display_name": "Python 3",
   "language": "python",
   "name": "python3"
  },
  "language_info": {
   "codemirror_mode": {
    "name": "ipython",
    "version": 3
   },
   "file_extension": ".py",
   "mimetype": "text/x-python",
   "name": "python",
   "nbconvert_exporter": "python",
   "pygments_lexer": "ipython3",
   "version": "3.8.5"
  }
 },
 "nbformat": 4,
 "nbformat_minor": 5
}
